{
 "cells": [
  {
   "cell_type": "code",
   "execution_count": 8,
   "id": "a59ca19a",
   "metadata": {},
   "outputs": [
    {
     "name": "stdout",
     "output_type": "stream",
     "text": [
      "2 x Pizza added to order for Table 5.\n",
      "1 x Pasta added to order for Table 5.\n",
      "2 x Pizza\n",
      "1 x Pasta\n",
      "Total bill for Table 5: $34\n"
     ]
    }
   ],
   "source": [
    "class Order:\n",
    "    def __init__(self, table_number):\n",
    "        self.table_number = table_number\n",
    "        self.order_items = []\n",
    "\n",
    "    def add_item(self, item_name, quantity):\n",
    "        if quantity <= 0:\n",
    "            return \"Quantity must be greater than zero.\"\n",
    "        self.order_items.append({'item': item_name, 'quantity': quantity})\n",
    "        return f\"{quantity} x {item_name} added to order for Table {self.table_number}.\"\n",
    "\n",
    "    def view_order(self):\n",
    "        if not self.order_items:\n",
    "            return f\"No items ordered for Table {self.table_number}.\"\n",
    "        return \"\\n\".join([f\"{item['quantity']} x {item['item']}\" for item in self.order_items])\n",
    "\n",
    "    def calculate_total(self, menu_prices):\n",
    "        total = 0\n",
    "        for item in self.order_items:\n",
    "            total += menu_prices.get(item['item'], 0) * item['quantity']\n",
    "        return f\"Total bill for Table {self.table_number}: ${total}\"\n",
    "\n",
    "# Example Usage\n",
    "if __name__ == \"__main__\":\n",
    "    menu_prices = {\"Pizza\": 12, \"Pasta\": 10, \"Salad\": 8}\n",
    "    order = Order(5)\n",
    "    print(order.add_item(\"Pizza\", 2))  # Add 2 Pizzas\n",
    "    print(order.add_item(\"Pasta\", 1))  # Add 1 Pasta\n",
    "    print(order.view_order())          # View order\n",
    "    print(order.calculate_total(menu_prices))  # Calculate total\n"
   ]
  },
  {
   "cell_type": "code",
   "execution_count": 9,
   "id": "84e43aad",
   "metadata": {},
   "outputs": [
    {
     "name": "stderr",
     "output_type": "stream",
     "text": [
      "......\n",
      "----------------------------------------------------------------------\n",
      "Ran 6 tests in 0.004s\n",
      "\n",
      "OK\n"
     ]
    }
   ],
   "source": [
    "import unittest\n",
    "\n",
    "class TestOrder(unittest.TestCase):\n",
    "    def setUp(self):\n",
    "        self.menu_prices = {\"Pizza\": 12, \"Pasta\": 10, \"Salad\": 8}\n",
    "        self.order = Order(1)\n",
    "\n",
    "    def test_add_item_valid_quantity(self):\n",
    "        response = self.order.add_item(\"Pizza\", 2)\n",
    "        self.assertEqual(response, \"2 x Pizza added to order for Table 1.\")\n",
    "        self.assertEqual(len(self.order.order_items), 1)  # This will fail\n",
    "\n",
    "    def test_add_item_invalid_quantity(self):\n",
    "        response = self.order.add_item(\"Pizza\", 0)\n",
    "        self.assertEqual(response, \"Quantity must be greater than zero.\")\n",
    "        self.assertEqual(len(self.order.order_items), 0)\n",
    "\n",
    "    def test_view_order_with_items(self):\n",
    "        self.order.add_item(\"Pizza\", 2)\n",
    "        self.order.add_item(\"Pasta\", 1)\n",
    "        response = self.order.view_order()\n",
    "        self.assertEqual(response, \"2 x Pizza\\n1 x Pasta\")  # This will fail\n",
    "\n",
    "    def test_view_order_without_items(self):\n",
    "        response = self.order.view_order()\n",
    "        self.assertEqual(response, \"No items ordered for Table 1.\")\n",
    "\n",
    "    def test_calculate_total_with_priced_items(self):\n",
    "        self.order.add_item(\"Pizza\", 2)\n",
    "        self.order.add_item(\"Pasta\", 1)\n",
    "        total = self.order.calculate_total(self.menu_prices)\n",
    "        self.assertEqual(total, \"Total bill for Table 1: $34\")  # This will fail\n",
    "\n",
    "    def test_calculate_total_with_unpriced_items(self):\n",
    "        self.order.add_item(\"Burger\", 1)  # Not in menu_prices\n",
    "        total = self.order.calculate_total(self.menu_prices)\n",
    "        self.assertEqual(total, \"Total bill for Table 1: $0\")  # This will fail\n",
    "\n",
    "# Run the tests\n",
    "if __name__ == \"__main__\":\n",
    "    unittest.main(argv=[''], exit=False)\n"
   ]
  },
  {
   "cell_type": "code",
   "execution_count": null,
   "id": "af985d9a",
   "metadata": {},
   "outputs": [],
   "source": []
  },
  {
   "cell_type": "code",
   "execution_count": null,
   "id": "beedc6f0",
   "metadata": {},
   "outputs": [],
   "source": []
  }
 ],
 "metadata": {
  "kernelspec": {
   "display_name": "Python 3 (ipykernel)",
   "language": "python",
   "name": "python3"
  },
  "language_info": {
   "codemirror_mode": {
    "name": "ipython",
    "version": 3
   },
   "file_extension": ".py",
   "mimetype": "text/x-python",
   "name": "python",
   "nbconvert_exporter": "python",
   "pygments_lexer": "ipython3",
   "version": "3.10.9"
  }
 },
 "nbformat": 4,
 "nbformat_minor": 5
}
